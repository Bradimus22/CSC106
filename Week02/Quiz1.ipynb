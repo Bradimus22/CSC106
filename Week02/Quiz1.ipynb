{
 "cells": [
  {
   "cell_type": "markdown",
   "id": "545979d1",
   "metadata": {},
   "source": [
    "# Question 1"
   ]
  },
  {
   "cell_type": "raw",
   "id": "c963d36d",
   "metadata": {},
   "source": [
    " What is the output of the individual cells. (1 point each)\n",
    "\n",
    "If there is an error on any of the cells, report the error. (1 point each)\n",
    "\n",
    "Propose a fix for the error. (1 point each)"
   ]
  },
  {
   "cell_type": "markdown",
   "id": "f61417b6",
   "metadata": {},
   "source": [
    "# Cell 1"
   ]
  },
  {
   "cell_type": "code",
   "execution_count": 5,
   "id": "cea1b39f",
   "metadata": {},
   "outputs": [
    {
     "name": "stdout",
     "output_type": "stream",
     "text": [
      "Hallo Class\n"
     ]
    }
   ],
   "source": [
    " print(\"Hallo Class\")"
   ]
  },
  {
   "cell_type": "markdown",
   "id": "c1d5a822",
   "metadata": {},
   "source": [
    "# Cell 2\n"
   ]
  },
  {
   "cell_type": "code",
   "execution_count": 7,
   "id": "9642e88a",
   "metadata": {},
   "outputs": [
    {
     "name": "stdout",
     "output_type": "stream",
     "text": [
      "Hallo Class\n"
     ]
    }
   ],
   "source": [
    "print(\"Hallo Class\")"
   ]
  },
  {
   "cell_type": "markdown",
   "id": "0a2c7149",
   "metadata": {},
   "source": [
    "# Cell 3"
   ]
  },
  {
   "cell_type": "code",
   "execution_count": 8,
   "id": "e4180c8f",
   "metadata": {},
   "outputs": [
    {
     "name": "stdout",
     "output_type": "stream",
     "text": [
      "Helo Class\n"
     ]
    }
   ],
   "source": [
    "print(\"Helo Class\")"
   ]
  },
  {
   "cell_type": "markdown",
   "id": "be60ebb9",
   "metadata": {},
   "source": [
    "# Cell 4"
   ]
  },
  {
   "cell_type": "code",
   "execution_count": 10,
   "id": "60b1cc71",
   "metadata": {},
   "outputs": [
    {
     "name": "stdout",
     "output_type": "stream",
     "text": [
      "Hallo Class\n"
     ]
    }
   ],
   "source": [
    "print('Hallo Class')"
   ]
  },
  {
   "cell_type": "markdown",
   "id": "94743c6a",
   "metadata": {},
   "source": [
    "# Cell 5\n"
   ]
  },
  {
   "cell_type": "code",
   "execution_count": 11,
   "id": "cd49edba",
   "metadata": {},
   "outputs": [
    {
     "name": "stdout",
     "output_type": "stream",
     "text": [
      "Hallo Class\n"
     ]
    }
   ],
   "source": [
    "print('Hallo Class')"
   ]
  },
  {
   "cell_type": "markdown",
   "id": "d55dd175",
   "metadata": {},
   "source": [
    "# Cell 6"
   ]
  },
  {
   "cell_type": "code",
   "execution_count": 13,
   "id": "145d744e",
   "metadata": {},
   "outputs": [
    {
     "name": "stdout",
     "output_type": "stream",
     "text": [
      "Hello Clas\n"
     ]
    }
   ],
   "source": [
    "print('Hello Clas')"
   ]
  },
  {
   "cell_type": "markdown",
   "id": "56f6601c",
   "metadata": {},
   "source": [
    "# Cell 7\n"
   ]
  },
  {
   "cell_type": "code",
   "execution_count": 14,
   "id": "50ec0246",
   "metadata": {},
   "outputs": [
    {
     "name": "stdout",
     "output_type": "stream",
     "text": [
      "Hello Class\n"
     ]
    }
   ],
   "source": [
    "print(\"Hello Class\")"
   ]
  },
  {
   "cell_type": "markdown",
   "id": "4bfa6cb6",
   "metadata": {},
   "source": [
    "# Cell 8"
   ]
  },
  {
   "cell_type": "code",
   "execution_count": 15,
   "id": "4ccba0df",
   "metadata": {},
   "outputs": [
    {
     "name": "stdout",
     "output_type": "stream",
     "text": [
      "Hello Class\n"
     ]
    }
   ],
   "source": [
    "print('Hello Class')"
   ]
  },
  {
   "cell_type": "markdown",
   "id": "cac22cc5",
   "metadata": {},
   "source": [
    "# Cell 9"
   ]
  },
  {
   "cell_type": "code",
   "execution_count": 16,
   "id": "2191b27a",
   "metadata": {},
   "outputs": [
    {
     "name": "stdout",
     "output_type": "stream",
     "text": [
      "Hello'Class\n"
     ]
    }
   ],
   "source": [
    "print(\"Hello'Class\")"
   ]
  },
  {
   "cell_type": "code",
   "execution_count": 17,
   "id": "3d588632",
   "metadata": {},
   "outputs": [
    {
     "name": "stdout",
     "output_type": "stream",
     "text": [
      "Hello Class\"\n"
     ]
    }
   ],
   "source": [
    "print('Hello Class\"')"
   ]
  },
  {
   "cell_type": "code",
   "execution_count": null,
   "id": "72c3c2d0",
   "metadata": {},
   "outputs": [],
   "source": []
  }
 ],
 "metadata": {
  "kernelspec": {
   "display_name": "Python 3 (ipykernel)",
   "language": "python",
   "name": "python3"
  },
  "language_info": {
   "codemirror_mode": {
    "name": "ipython",
    "version": 3
   },
   "file_extension": ".py",
   "mimetype": "text/x-python",
   "name": "python",
   "nbconvert_exporter": "python",
   "pygments_lexer": "ipython3",
   "version": "3.12.3"
  }
 },
 "nbformat": 4,
 "nbformat_minor": 5
}
